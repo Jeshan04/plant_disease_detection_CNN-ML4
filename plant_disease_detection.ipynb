{
  "nbformat": 4,
  "nbformat_minor": 0,
  "metadata": {
    "colab": {
      "provenance": [],
      "gpuType": "T4"
    },
    "kernelspec": {
      "name": "python3",
      "display_name": "Python 3"
    },
    "language_info": {
      "name": "python"
    },
    "accelerator": "GPU"
  },
  "cells": [
    {
      "cell_type": "code",
      "execution_count": null,
      "metadata": {
        "colab": {
          "base_uri": "https://localhost:8080/"
        },
        "id": "j9sFRC9yexP9",
        "outputId": "7907eeda-f965-4ecc-9574-df6e99c5821a"
      },
      "outputs": [
        {
          "output_type": "stream",
          "name": "stdout",
          "text": [
            "Mounted at /content/drive\n"
          ]
        }
      ],
      "source": [
        "from google.colab import drive\n",
        "drive.mount('/content/drive')"
      ]
    },
    {
      "cell_type": "code",
      "source": [
        "!ls \"drive/MyDrive\""
      ],
      "metadata": {
        "id": "No5F1yXhe_xh"
      },
      "execution_count": null,
      "outputs": []
    },
    {
      "cell_type": "code",
      "source": [
        "import pandas as pd\n",
        "import numpy as np\n",
        "import matplotlib.pyplot as plt\n",
        "import cv2\n",
        "import random\n",
        "import os\n",
        "from PIL import Image\n",
        "from matplotlib.image import imread\n",
        "from os import listdir\n",
        "from sklearn.preprocessing import label_binarize, LabelBinarizer\n",
        "from keras.preprocessing import image\n",
        "from keras.preprocessing.image import img_to_array, array_to_img\n",
        "from keras.optimizers import Adam\n",
        "from keras.models import Sequential\n",
        "from keras.layers import Conv2D, MaxPool2D, Dense, Flatten, Dropout, Activation\n",
        "from sklearn.model_selection import train_test_split\n",
        "from keras.models import model_from_json\n",
        "from keras.utils import to_categorical"
      ],
      "metadata": {
        "id": "tlfI7C0WfprG"
      },
      "execution_count": null,
      "outputs": []
    },
    {
      "cell_type": "code",
      "source": [
        "def convert_img_to_array(img_dir):\n",
        "  try:\n",
        "    image = cv2.imread(img_dir)\n",
        "    if image is not None:\n",
        "      image = cv2.resize(image, (256, 256))\n",
        "      return image\n",
        "    else:\n",
        "      return np.array([])\n",
        "  except Exception as e:\n",
        "    print(e)\n",
        "    return None"
      ],
      "metadata": {
        "id": "CQJaeC2ZmV1n"
      },
      "execution_count": null,
      "outputs": []
    },
    {
      "cell_type": "code",
      "source": [
        "dir = \"drive/MyDrive/CNN_Plant_Data\"\n",
        "root_dir = listdir(dir)\n",
        "image_list, label_list = [],[]\n",
        "all_labels = ['Corn-Common_rust','Potato-Early_blight','Tomato-Bacterial_spot']\n",
        "binary_labels = [0,1,2]\n",
        "temp = -1\n",
        "\n",
        "\n",
        "\n",
        "for dir1 in root_dir:\n",
        "  plant_image_list = listdir(f\"{dir}/{dir1}\")\n",
        "  temp = temp+1\n",
        "  for image in plant_image_list:\n",
        "    image_path = f\"{dir}/{dir1}/{image}\"\n",
        "    image_list.append(convert_img_to_array(image_path))\n",
        "    label_list.append(binary_labels[temp])"
      ],
      "metadata": {
        "id": "hLDWicBlnDL1"
      },
      "execution_count": null,
      "outputs": []
    },
    {
      "cell_type": "code",
      "source": [
        "label_counts = pd.DataFrame(label_list).value_counts()\n",
        "label_counts"
      ],
      "metadata": {
        "colab": {
          "base_uri": "https://localhost:8080/"
        },
        "id": "crJZeKEqofF6",
        "outputId": "20ca3311-6422-42a3-c36e-cabf4c77d463"
      },
      "execution_count": null,
      "outputs": [
        {
          "output_type": "execute_result",
          "data": {
            "text/plain": [
              "0    300\n",
              "1    300\n",
              "2    300\n",
              "Name: count, dtype: int64"
            ]
          },
          "metadata": {},
          "execution_count": 6
        }
      ]
    },
    {
      "cell_type": "code",
      "source": [
        "x_train, x_test, y_train, y_test = train_test_split(image_list, label_list, test_size=0.2, random_state=10)"
      ],
      "metadata": {
        "id": "LRZ_xszLqJGF"
      },
      "execution_count": null,
      "outputs": []
    },
    {
      "cell_type": "code",
      "source": [
        "x_train = np.array(x_train, dtype=np.float16) / 225.0\n",
        "x_test = np.array(x_test, dtype=np.float16) / 225.0\n",
        "x_train = x_train.reshape( -1, 256,256,3)\n",
        "x_test = x_test.reshape( -1, 256,256,3)"
      ],
      "metadata": {
        "id": "kPwdwwf7qZ2o"
      },
      "execution_count": null,
      "outputs": []
    },
    {
      "cell_type": "code",
      "source": [
        "y_train = to_categorical(y_train)\n",
        "y_test = to_categorical(y_test)\n"
      ],
      "metadata": {
        "id": "0gjOUQaFrWOq"
      },
      "execution_count": null,
      "outputs": []
    },
    {
      "cell_type": "code",
      "source": [
        "model = Sequential()\n",
        "model.add(Conv2D(32,(3,3),padding=\"same\",input_shape=(256,256,3),activation=\"relu\"))\n",
        "model.add(MaxPool2D(pool_size=(2,2)))\n",
        "model.add(Conv2D(64,(3,3),padding=\"same\",activation=\"relu\"))\n",
        "model.add(MaxPool2D(pool_size=(2,2)))\n",
        "model.add(Flatten())\n",
        "model.add(Dense(64,activation=\"relu\"))\n",
        "model.add(Dense(3,activation=\"softmax\"))\n",
        "model.summary()"
      ],
      "metadata": {
        "colab": {
          "base_uri": "https://localhost:8080/"
        },
        "id": "m08OVwadr0p3",
        "outputId": "e1ad6789-7762-4330-cfae-98eccd38b289"
      },
      "execution_count": null,
      "outputs": [
        {
          "output_type": "stream",
          "name": "stdout",
          "text": [
            "Model: \"sequential\"\n",
            "_________________________________________________________________\n",
            " Layer (type)                Output Shape              Param #   \n",
            "=================================================================\n",
            " conv2d (Conv2D)             (None, 256, 256, 32)      896       \n",
            "                                                                 \n",
            " max_pooling2d (MaxPooling2  (None, 128, 128, 32)      0         \n",
            " D)                                                              \n",
            "                                                                 \n",
            " conv2d_1 (Conv2D)           (None, 128, 128, 64)      18496     \n",
            "                                                                 \n",
            " max_pooling2d_1 (MaxPoolin  (None, 64, 64, 64)        0         \n",
            " g2D)                                                            \n",
            "                                                                 \n",
            " flatten (Flatten)           (None, 262144)            0         \n",
            "                                                                 \n",
            " dense (Dense)               (None, 64)                16777280  \n",
            "                                                                 \n",
            " dense_1 (Dense)             (None, 3)                 195       \n",
            "                                                                 \n",
            "=================================================================\n",
            "Total params: 16796867 (64.07 MB)\n",
            "Trainable params: 16796867 (64.07 MB)\n",
            "Non-trainable params: 0 (0.00 Byte)\n",
            "_________________________________________________________________\n"
          ]
        }
      ]
    },
    {
      "cell_type": "code",
      "source": [
        "model.compile(loss = 'categorical_crossentropy', optimizer = Adam(0.0001),metrics=['accuracy'])"
      ],
      "metadata": {
        "id": "UlZIy5_dr4Gx"
      },
      "execution_count": null,
      "outputs": []
    },
    {
      "cell_type": "code",
      "source": [
        "x_train, x_val, y_train, y_val = train_test_split(x_train, y_train, test_size = 0.2)"
      ],
      "metadata": {
        "id": "8HveeBbgtVwg"
      },
      "execution_count": null,
      "outputs": []
    },
    {
      "cell_type": "code",
      "source": [
        "epochs = 100\n",
        "batch_size = 128\n",
        "history = model.fit(x_train, y_train, batch_size = batch_size, epochs = epochs,validation_data = (x_val, y_val))"
      ],
      "metadata": {
        "colab": {
          "base_uri": "https://localhost:8080/"
        },
        "id": "fnMZ2O0PtXnP",
        "outputId": "0de8b69c-f523-4e06-9435-e0391aad187c"
      },
      "execution_count": null,
      "outputs": [
        {
          "output_type": "stream",
          "name": "stdout",
          "text": [
            "Epoch 1/100\n",
            "5/5 [==============================] - 16s 1s/step - loss: 0.9292 - accuracy: 0.5747 - val_loss: 0.4647 - val_accuracy: 0.7569\n",
            "Epoch 2/100\n",
            "5/5 [==============================] - 1s 255ms/step - loss: 0.3937 - accuracy: 0.8438 - val_loss: 0.2876 - val_accuracy: 0.9444\n",
            "Epoch 3/100\n",
            "5/5 [==============================] - 2s 350ms/step - loss: 0.2430 - accuracy: 0.9375 - val_loss: 0.2087 - val_accuracy: 0.9444\n",
            "Epoch 4/100\n",
            "5/5 [==============================] - 2s 363ms/step - loss: 0.1651 - accuracy: 0.9618 - val_loss: 0.2297 - val_accuracy: 0.9167\n",
            "Epoch 5/100\n",
            "5/5 [==============================] - 2s 348ms/step - loss: 0.1463 - accuracy: 0.9479 - val_loss: 0.1372 - val_accuracy: 0.9583\n",
            "Epoch 6/100\n",
            "5/5 [==============================] - 2s 325ms/step - loss: 0.0998 - accuracy: 0.9722 - val_loss: 0.1239 - val_accuracy: 0.9653\n",
            "Epoch 7/100\n",
            "5/5 [==============================] - 1s 297ms/step - loss: 0.0728 - accuracy: 0.9861 - val_loss: 0.1060 - val_accuracy: 0.9653\n",
            "Epoch 8/100\n",
            "5/5 [==============================] - 1s 316ms/step - loss: 0.0553 - accuracy: 0.9913 - val_loss: 0.0841 - val_accuracy: 0.9653\n",
            "Epoch 9/100\n",
            "5/5 [==============================] - 1s 323ms/step - loss: 0.0416 - accuracy: 0.9931 - val_loss: 0.0771 - val_accuracy: 0.9792\n",
            "Epoch 10/100\n",
            "5/5 [==============================] - 1s 219ms/step - loss: 0.0351 - accuracy: 0.9965 - val_loss: 0.0751 - val_accuracy: 0.9861\n",
            "Epoch 11/100\n",
            "5/5 [==============================] - 1s 205ms/step - loss: 0.0323 - accuracy: 0.9896 - val_loss: 0.0780 - val_accuracy: 0.9792\n",
            "Epoch 12/100\n",
            "5/5 [==============================] - 1s 206ms/step - loss: 0.0261 - accuracy: 0.9983 - val_loss: 0.0787 - val_accuracy: 0.9722\n",
            "Epoch 13/100\n",
            "5/5 [==============================] - 1s 206ms/step - loss: 0.0238 - accuracy: 0.9965 - val_loss: 0.0642 - val_accuracy: 0.9792\n",
            "Epoch 14/100\n",
            "5/5 [==============================] - 1s 206ms/step - loss: 0.0220 - accuracy: 0.9965 - val_loss: 0.0590 - val_accuracy: 0.9861\n",
            "Epoch 15/100\n",
            "5/5 [==============================] - 1s 209ms/step - loss: 0.0190 - accuracy: 0.9983 - val_loss: 0.0563 - val_accuracy: 0.9861\n",
            "Epoch 16/100\n",
            "5/5 [==============================] - 1s 205ms/step - loss: 0.0176 - accuracy: 0.9983 - val_loss: 0.0550 - val_accuracy: 0.9861\n",
            "Epoch 17/100\n",
            "5/5 [==============================] - 1s 208ms/step - loss: 0.0126 - accuracy: 1.0000 - val_loss: 0.0566 - val_accuracy: 0.9861\n",
            "Epoch 18/100\n",
            "5/5 [==============================] - 1s 238ms/step - loss: 0.0121 - accuracy: 1.0000 - val_loss: 0.0584 - val_accuracy: 0.9792\n",
            "Epoch 19/100\n",
            "5/5 [==============================] - 1s 269ms/step - loss: 0.0111 - accuracy: 1.0000 - val_loss: 0.0530 - val_accuracy: 0.9861\n",
            "Epoch 20/100\n",
            "5/5 [==============================] - 1s 273ms/step - loss: 0.0083 - accuracy: 1.0000 - val_loss: 0.0542 - val_accuracy: 0.9861\n",
            "Epoch 21/100\n",
            "5/5 [==============================] - 1s 238ms/step - loss: 0.0072 - accuracy: 1.0000 - val_loss: 0.0520 - val_accuracy: 0.9861\n",
            "Epoch 22/100\n",
            "5/5 [==============================] - 1s 204ms/step - loss: 0.0068 - accuracy: 1.0000 - val_loss: 0.0547 - val_accuracy: 0.9861\n",
            "Epoch 23/100\n",
            "5/5 [==============================] - 1s 206ms/step - loss: 0.0068 - accuracy: 1.0000 - val_loss: 0.0528 - val_accuracy: 0.9861\n",
            "Epoch 24/100\n",
            "5/5 [==============================] - 1s 204ms/step - loss: 0.0056 - accuracy: 1.0000 - val_loss: 0.0541 - val_accuracy: 0.9861\n",
            "Epoch 25/100\n",
            "5/5 [==============================] - 1s 209ms/step - loss: 0.0054 - accuracy: 1.0000 - val_loss: 0.0507 - val_accuracy: 0.9931\n",
            "Epoch 26/100\n",
            "5/5 [==============================] - 1s 207ms/step - loss: 0.0047 - accuracy: 1.0000 - val_loss: 0.0503 - val_accuracy: 0.9931\n",
            "Epoch 27/100\n",
            "5/5 [==============================] - 1s 203ms/step - loss: 0.0038 - accuracy: 1.0000 - val_loss: 0.0509 - val_accuracy: 0.9931\n",
            "Epoch 28/100\n",
            "5/5 [==============================] - 1s 206ms/step - loss: 0.0035 - accuracy: 1.0000 - val_loss: 0.0488 - val_accuracy: 0.9931\n",
            "Epoch 29/100\n",
            "5/5 [==============================] - 1s 208ms/step - loss: 0.0032 - accuracy: 1.0000 - val_loss: 0.0517 - val_accuracy: 0.9931\n",
            "Epoch 30/100\n",
            "5/5 [==============================] - 1s 207ms/step - loss: 0.0030 - accuracy: 1.0000 - val_loss: 0.0497 - val_accuracy: 0.9931\n",
            "Epoch 31/100\n",
            "5/5 [==============================] - 1s 210ms/step - loss: 0.0031 - accuracy: 1.0000 - val_loss: 0.0497 - val_accuracy: 0.9931\n",
            "Epoch 32/100\n",
            "5/5 [==============================] - 1s 280ms/step - loss: 0.0025 - accuracy: 1.0000 - val_loss: 0.0534 - val_accuracy: 0.9861\n",
            "Epoch 33/100\n",
            "5/5 [==============================] - 1s 240ms/step - loss: 0.0024 - accuracy: 1.0000 - val_loss: 0.0485 - val_accuracy: 0.9931\n",
            "Epoch 34/100\n",
            "5/5 [==============================] - 1s 275ms/step - loss: 0.0023 - accuracy: 1.0000 - val_loss: 0.0505 - val_accuracy: 0.9931\n",
            "Epoch 35/100\n",
            "5/5 [==============================] - 1s 207ms/step - loss: 0.0022 - accuracy: 1.0000 - val_loss: 0.0510 - val_accuracy: 0.9931\n",
            "Epoch 36/100\n",
            "5/5 [==============================] - 1s 211ms/step - loss: 0.0019 - accuracy: 1.0000 - val_loss: 0.0482 - val_accuracy: 0.9931\n",
            "Epoch 37/100\n",
            "5/5 [==============================] - 1s 207ms/step - loss: 0.0018 - accuracy: 1.0000 - val_loss: 0.0503 - val_accuracy: 0.9931\n",
            "Epoch 38/100\n",
            "5/5 [==============================] - 1s 210ms/step - loss: 0.0016 - accuracy: 1.0000 - val_loss: 0.0492 - val_accuracy: 0.9931\n",
            "Epoch 39/100\n",
            "5/5 [==============================] - 1s 211ms/step - loss: 0.0015 - accuracy: 1.0000 - val_loss: 0.0502 - val_accuracy: 0.9931\n",
            "Epoch 40/100\n",
            "5/5 [==============================] - 1s 212ms/step - loss: 0.0014 - accuracy: 1.0000 - val_loss: 0.0500 - val_accuracy: 0.9931\n",
            "Epoch 41/100\n",
            "5/5 [==============================] - 1s 208ms/step - loss: 0.0013 - accuracy: 1.0000 - val_loss: 0.0503 - val_accuracy: 0.9931\n",
            "Epoch 42/100\n",
            "5/5 [==============================] - 1s 207ms/step - loss: 0.0013 - accuracy: 1.0000 - val_loss: 0.0492 - val_accuracy: 0.9931\n",
            "Epoch 43/100\n",
            "5/5 [==============================] - 1s 208ms/step - loss: 0.0012 - accuracy: 1.0000 - val_loss: 0.0534 - val_accuracy: 0.9931\n",
            "Epoch 44/100\n",
            "5/5 [==============================] - 1s 267ms/step - loss: 0.0012 - accuracy: 1.0000 - val_loss: 0.0491 - val_accuracy: 0.9931\n",
            "Epoch 45/100\n",
            "5/5 [==============================] - 1s 247ms/step - loss: 0.0010 - accuracy: 1.0000 - val_loss: 0.0519 - val_accuracy: 0.9931\n",
            "Epoch 46/100\n",
            "5/5 [==============================] - 1s 244ms/step - loss: 9.9041e-04 - accuracy: 1.0000 - val_loss: 0.0519 - val_accuracy: 0.9931\n",
            "Epoch 47/100\n",
            "5/5 [==============================] - 1s 249ms/step - loss: 9.0660e-04 - accuracy: 1.0000 - val_loss: 0.0496 - val_accuracy: 0.9931\n",
            "Epoch 48/100\n",
            "5/5 [==============================] - 1s 211ms/step - loss: 8.8158e-04 - accuracy: 1.0000 - val_loss: 0.0503 - val_accuracy: 0.9931\n",
            "Epoch 49/100\n",
            "5/5 [==============================] - 1s 208ms/step - loss: 8.6279e-04 - accuracy: 1.0000 - val_loss: 0.0537 - val_accuracy: 0.9931\n",
            "Epoch 50/100\n",
            "5/5 [==============================] - 1s 210ms/step - loss: 7.8137e-04 - accuracy: 1.0000 - val_loss: 0.0494 - val_accuracy: 0.9931\n",
            "Epoch 51/100\n",
            "5/5 [==============================] - 1s 213ms/step - loss: 7.7205e-04 - accuracy: 1.0000 - val_loss: 0.0494 - val_accuracy: 0.9931\n",
            "Epoch 52/100\n",
            "5/5 [==============================] - 1s 209ms/step - loss: 7.1259e-04 - accuracy: 1.0000 - val_loss: 0.0522 - val_accuracy: 0.9931\n",
            "Epoch 53/100\n",
            "5/5 [==============================] - 1s 213ms/step - loss: 6.7240e-04 - accuracy: 1.0000 - val_loss: 0.0518 - val_accuracy: 0.9931\n",
            "Epoch 54/100\n",
            "5/5 [==============================] - 1s 207ms/step - loss: 6.4833e-04 - accuracy: 1.0000 - val_loss: 0.0502 - val_accuracy: 0.9931\n",
            "Epoch 55/100\n",
            "5/5 [==============================] - 1s 206ms/step - loss: 6.0008e-04 - accuracy: 1.0000 - val_loss: 0.0525 - val_accuracy: 0.9931\n",
            "Epoch 56/100\n",
            "5/5 [==============================] - 1s 212ms/step - loss: 5.7105e-04 - accuracy: 1.0000 - val_loss: 0.0532 - val_accuracy: 0.9931\n",
            "Epoch 57/100\n",
            "5/5 [==============================] - 1s 262ms/step - loss: 5.4504e-04 - accuracy: 1.0000 - val_loss: 0.0516 - val_accuracy: 0.9931\n",
            "Epoch 58/100\n",
            "5/5 [==============================] - 1s 288ms/step - loss: 5.2726e-04 - accuracy: 1.0000 - val_loss: 0.0525 - val_accuracy: 0.9931\n",
            "Epoch 59/100\n",
            "5/5 [==============================] - 1s 264ms/step - loss: 4.9646e-04 - accuracy: 1.0000 - val_loss: 0.0544 - val_accuracy: 0.9931\n",
            "Epoch 60/100\n",
            "5/5 [==============================] - 1s 220ms/step - loss: 4.6626e-04 - accuracy: 1.0000 - val_loss: 0.0521 - val_accuracy: 0.9931\n",
            "Epoch 61/100\n",
            "5/5 [==============================] - 1s 207ms/step - loss: 4.6417e-04 - accuracy: 1.0000 - val_loss: 0.0517 - val_accuracy: 0.9931\n",
            "Epoch 62/100\n",
            "5/5 [==============================] - 1s 211ms/step - loss: 4.5488e-04 - accuracy: 1.0000 - val_loss: 0.0553 - val_accuracy: 0.9931\n",
            "Epoch 63/100\n",
            "5/5 [==============================] - 1s 207ms/step - loss: 4.2263e-04 - accuracy: 1.0000 - val_loss: 0.0520 - val_accuracy: 0.9931\n",
            "Epoch 64/100\n",
            "5/5 [==============================] - 1s 209ms/step - loss: 4.0500e-04 - accuracy: 1.0000 - val_loss: 0.0514 - val_accuracy: 0.9931\n",
            "Epoch 65/100\n",
            "5/5 [==============================] - 1s 211ms/step - loss: 3.7926e-04 - accuracy: 1.0000 - val_loss: 0.0523 - val_accuracy: 0.9931\n",
            "Epoch 66/100\n",
            "5/5 [==============================] - 1s 210ms/step - loss: 3.5888e-04 - accuracy: 1.0000 - val_loss: 0.0531 - val_accuracy: 0.9931\n",
            "Epoch 67/100\n",
            "5/5 [==============================] - 1s 209ms/step - loss: 3.4792e-04 - accuracy: 1.0000 - val_loss: 0.0534 - val_accuracy: 0.9931\n",
            "Epoch 68/100\n",
            "5/5 [==============================] - 1s 209ms/step - loss: 3.3083e-04 - accuracy: 1.0000 - val_loss: 0.0520 - val_accuracy: 0.9931\n",
            "Epoch 69/100\n",
            "5/5 [==============================] - 1s 209ms/step - loss: 3.2286e-04 - accuracy: 1.0000 - val_loss: 0.0528 - val_accuracy: 0.9931\n",
            "Epoch 70/100\n",
            "5/5 [==============================] - 1s 268ms/step - loss: 3.0957e-04 - accuracy: 1.0000 - val_loss: 0.0542 - val_accuracy: 0.9931\n",
            "Epoch 71/100\n",
            "5/5 [==============================] - 1s 274ms/step - loss: 2.9762e-04 - accuracy: 1.0000 - val_loss: 0.0528 - val_accuracy: 0.9931\n",
            "Epoch 72/100\n",
            "5/5 [==============================] - 1s 244ms/step - loss: 2.9193e-04 - accuracy: 1.0000 - val_loss: 0.0516 - val_accuracy: 0.9931\n",
            "Epoch 73/100\n",
            "5/5 [==============================] - 1s 219ms/step - loss: 2.8737e-04 - accuracy: 1.0000 - val_loss: 0.0544 - val_accuracy: 0.9931\n",
            "Epoch 74/100\n",
            "5/5 [==============================] - 1s 210ms/step - loss: 2.7017e-04 - accuracy: 1.0000 - val_loss: 0.0531 - val_accuracy: 0.9931\n",
            "Epoch 75/100\n",
            "5/5 [==============================] - 1s 215ms/step - loss: 2.6084e-04 - accuracy: 1.0000 - val_loss: 0.0522 - val_accuracy: 0.9931\n",
            "Epoch 76/100\n",
            "5/5 [==============================] - 1s 209ms/step - loss: 2.5775e-04 - accuracy: 1.0000 - val_loss: 0.0543 - val_accuracy: 0.9931\n",
            "Epoch 77/100\n",
            "5/5 [==============================] - 1s 206ms/step - loss: 2.4041e-04 - accuracy: 1.0000 - val_loss: 0.0525 - val_accuracy: 0.9931\n",
            "Epoch 78/100\n",
            "5/5 [==============================] - 1s 212ms/step - loss: 2.3089e-04 - accuracy: 1.0000 - val_loss: 0.0522 - val_accuracy: 0.9931\n",
            "Epoch 79/100\n",
            "5/5 [==============================] - 1s 210ms/step - loss: 2.2532e-04 - accuracy: 1.0000 - val_loss: 0.0527 - val_accuracy: 0.9931\n",
            "Epoch 80/100\n",
            "5/5 [==============================] - 1s 214ms/step - loss: 2.2202e-04 - accuracy: 1.0000 - val_loss: 0.0543 - val_accuracy: 0.9931\n",
            "Epoch 81/100\n",
            "5/5 [==============================] - 1s 210ms/step - loss: 2.1747e-04 - accuracy: 1.0000 - val_loss: 0.0524 - val_accuracy: 0.9931\n",
            "Epoch 82/100\n",
            "5/5 [==============================] - 1s 215ms/step - loss: 2.0689e-04 - accuracy: 1.0000 - val_loss: 0.0538 - val_accuracy: 0.9931\n",
            "Epoch 83/100\n",
            "5/5 [==============================] - 1s 248ms/step - loss: 1.9676e-04 - accuracy: 1.0000 - val_loss: 0.0532 - val_accuracy: 0.9931\n",
            "Epoch 84/100\n",
            "5/5 [==============================] - 1s 277ms/step - loss: 1.9080e-04 - accuracy: 1.0000 - val_loss: 0.0528 - val_accuracy: 0.9931\n",
            "Epoch 85/100\n",
            "5/5 [==============================] - 1s 235ms/step - loss: 1.8553e-04 - accuracy: 1.0000 - val_loss: 0.0531 - val_accuracy: 0.9931\n",
            "Epoch 86/100\n",
            "5/5 [==============================] - 1s 217ms/step - loss: 1.7862e-04 - accuracy: 1.0000 - val_loss: 0.0533 - val_accuracy: 0.9931\n",
            "Epoch 87/100\n",
            "5/5 [==============================] - 1s 209ms/step - loss: 1.7343e-04 - accuracy: 1.0000 - val_loss: 0.0536 - val_accuracy: 0.9931\n",
            "Epoch 88/100\n",
            "5/5 [==============================] - 1s 211ms/step - loss: 1.6800e-04 - accuracy: 1.0000 - val_loss: 0.0538 - val_accuracy: 0.9931\n",
            "Epoch 89/100\n",
            "5/5 [==============================] - 1s 213ms/step - loss: 1.6342e-04 - accuracy: 1.0000 - val_loss: 0.0532 - val_accuracy: 0.9931\n",
            "Epoch 90/100\n",
            "5/5 [==============================] - 1s 211ms/step - loss: 1.5925e-04 - accuracy: 1.0000 - val_loss: 0.0536 - val_accuracy: 0.9931\n",
            "Epoch 91/100\n",
            "5/5 [==============================] - 1s 208ms/step - loss: 1.5339e-04 - accuracy: 1.0000 - val_loss: 0.0531 - val_accuracy: 0.9931\n",
            "Epoch 92/100\n",
            "5/5 [==============================] - 1s 214ms/step - loss: 1.4917e-04 - accuracy: 1.0000 - val_loss: 0.0533 - val_accuracy: 0.9931\n",
            "Epoch 93/100\n",
            "5/5 [==============================] - 1s 214ms/step - loss: 1.4491e-04 - accuracy: 1.0000 - val_loss: 0.0537 - val_accuracy: 0.9931\n",
            "Epoch 94/100\n",
            "5/5 [==============================] - 1s 211ms/step - loss: 1.4040e-04 - accuracy: 1.0000 - val_loss: 0.0540 - val_accuracy: 0.9931\n",
            "Epoch 95/100\n",
            "5/5 [==============================] - 1s 257ms/step - loss: 1.3659e-04 - accuracy: 1.0000 - val_loss: 0.0542 - val_accuracy: 0.9931\n",
            "Epoch 96/100\n",
            "5/5 [==============================] - 1s 281ms/step - loss: 1.3270e-04 - accuracy: 1.0000 - val_loss: 0.0541 - val_accuracy: 0.9931\n",
            "Epoch 97/100\n",
            "5/5 [==============================] - 1s 295ms/step - loss: 1.3016e-04 - accuracy: 1.0000 - val_loss: 0.0534 - val_accuracy: 0.9931\n",
            "Epoch 98/100\n",
            "5/5 [==============================] - 1s 307ms/step - loss: 1.2524e-04 - accuracy: 1.0000 - val_loss: 0.0543 - val_accuracy: 0.9931\n",
            "Epoch 99/100\n",
            "5/5 [==============================] - 1s 209ms/step - loss: 1.2285e-04 - accuracy: 1.0000 - val_loss: 0.0544 - val_accuracy: 0.9931\n",
            "Epoch 100/100\n",
            "5/5 [==============================] - 1s 208ms/step - loss: 1.1798e-04 - accuracy: 1.0000 - val_loss: 0.0538 - val_accuracy: 0.9931\n"
          ]
        }
      ]
    },
    {
      "cell_type": "code",
      "source": [
        "model.save(\"plant.h5\")"
      ],
      "metadata": {
        "id": "ifLkDpbMtZ6-"
      },
      "execution_count": null,
      "outputs": []
    },
    {
      "cell_type": "code",
      "source": [],
      "metadata": {
        "id": "Yfr8vRKQQmee"
      },
      "execution_count": null,
      "outputs": []
    }
  ]
}