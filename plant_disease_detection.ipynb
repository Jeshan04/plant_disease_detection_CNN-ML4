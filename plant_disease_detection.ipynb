{
  "nbformat": 4,
  "nbformat_minor": 0,
  "metadata": {
    "colab": {
      "provenance": [],
      "gpuType": "T4"
    },
    "kernelspec": {
      "name": "python3",
      "display_name": "Python 3"
    },
    "language_info": {
      "name": "python"
    },
    "accelerator": "GPU"
  },
  "cells": [
    {
      "cell_type": "code",
      "execution_count": 2,
      "metadata": {
        "colab": {
          "base_uri": "https://localhost:8080/"
        },
        "id": "j9sFRC9yexP9",
        "outputId": "ebdfa6e5-1677-46ac-9c78-b642dff34099"
      },
      "outputs": [
        {
          "output_type": "stream",
          "name": "stdout",
          "text": [
            "Mounted at /content/drive\n"
          ]
        }
      ],
      "source": [
        "from google.colab import drive\n",
        "\n",
        "drive.mount('/content/drive')"
      ]
    },
    {
      "cell_type": "code",
      "source": [
        "!ls \"drive/MyDrive\""
      ],
      "metadata": {
        "colab": {
          "base_uri": "https://localhost:8080/",
          "height": 1000
        },
        "id": "No5F1yXhe_xh",
        "outputId": "0d6ae6ad-c3e5-43da-d934-fe4a25054891"
      },
      "execution_count": 16,
      "outputs": [
        {
          "output_type": "stream",
          "name": "stdout",
          "text": [
            " 201102_AADHAAR_CARD.pdf\n",
            " 201102_Photo.jpeg\n",
            " 201102_X_MARKSHEET.pdf\n",
            " ACM_EXECS.gsheet\n",
            " ACM_ML_6.pdf\n",
            "'ACM REC 23.gsheet'\n",
            "'antiragging_form (1).pdf'\n",
            " antiragging_form.pdf\n",
            " CNN_Plant_Data\n",
            "'Colab Notebooks'\n",
            "'Committee Application (1).docx'\n",
            "'Committee Application.docx'\n",
            "'Complex Systems.gsheet'\n",
            "'Development 1 and 2 combined.dwg'\n",
            "'Development 1 and 2 combined-Model.pdf'\n",
            "'dru-wyxj-kcb – 9 Sept 2023.gjam'\n",
            "'Eshan Joshi A020 Btech IT Sem 3 certificate.pdf'\n",
            " EshanJoshi_ACM_TECH_SOP.docx\n",
            " EshanJoshi_Semicode_A1.docx\n",
            " EshanJoshi_Semicode_A3.docx\n",
            " EshanJoshi_Semicode_A4.docx\n",
            "'Eshan Joshi_Semicode_A5.docx'\n",
            " EshanJoshi_Semicode_A6.docx\n",
            " EshanJoshi_SemiCode_Q1.docx\n",
            "'EshanJoshi_Semicode_Q2 (1).docx'\n",
            "'EshanJoshi_Semicode_Q2 (2).docx'\n",
            " EshanJoshi_Semicode_Q2.docx\n",
            " EshanJoshi_timetable.pdf\n",
            " Eshan_Tech.png\n",
            " IMG_1116.png\n",
            " Minecraft\n",
            "'OnePlus review '\n",
            "'PFE Debuggers.gform'\n",
            "'PFE Debuggers (Responses).gsheet'\n",
            " reviewbyEshan.jpg\n",
            " Screenshot_20220105-105158.jpg\n",
            " Screenshot_2022-12-02-22-14-52-68_1c337646f29875672b5a61192b9010f9.jpg\n",
            " Screenshot_2022-12-02-22-17-40-97_40deb401b9ffe8e1df2f1cc5ba480b12.jpg\n",
            "'section of solids 1 and 2 combined.dwg'\n",
            "'section of solids 1 and 2 combined-Model.pdf'\n",
            " semicode_question_format.gdoc\n",
            "'Semicode Question Responses.gsheet'\n",
            "'Semicode Questions.gsheet'\n",
            "'Semicode Tech.gsheet'\n",
            " Submission1.dwg\n",
            " Submission1-Model.pdf\n",
            " Submission2.dwg\n",
            " Submission2-Model.pdf\n",
            " submission3.dwg\n",
            " submission3-Model.pdf\n",
            " Submission4.dwg\n",
            " Submission4-Model.pdf\n",
            "'Submission5 (1).dwg'\n",
            " Submission5.dwg\n",
            " Submission5-Model.pdf\n",
            " submission6_.dwg\n",
            " submission6_-Model.pdf\n",
            "'tc3.zip (Unzipped Files)'\n",
            " Team52_Eshan_Undertaking.pdf\n",
            "'TECH TShirt.gsheet'\n",
            " tenp.png\n",
            "'tsv-wgmz-fim – 11 Sept 2023.gjam'\n",
            "'Turbo.C.3.2.zip (Unzipped Files)'\n",
            "'Untitled form (1).gform'\n",
            "'Untitled form (File responses)'\n",
            "'Untitled form.gform'\n",
            " web\n"
          ]
        },
        {
          "output_type": "error",
          "ename": "NameError",
          "evalue": "name 'clear_output' is not defined",
          "traceback": [
            "\u001b[0;31m---------------------------------------------------------------------------\u001b[0m",
            "\u001b[0;31mNameError\u001b[0m                                 Traceback (most recent call last)",
            "\u001b[0;32m<ipython-input-16-fb74233a374a>\u001b[0m in \u001b[0;36m<cell line: 2>\u001b[0;34m()\u001b[0m\n\u001b[1;32m      1\u001b[0m \u001b[0mget_ipython\u001b[0m\u001b[0;34m(\u001b[0m\u001b[0;34m)\u001b[0m\u001b[0;34m.\u001b[0m\u001b[0msystem\u001b[0m\u001b[0;34m(\u001b[0m\u001b[0;34m'ls \"drive/MyDrive\"'\u001b[0m\u001b[0;34m)\u001b[0m\u001b[0;34m\u001b[0m\u001b[0;34m\u001b[0m\u001b[0m\n\u001b[0;32m----> 2\u001b[0;31m \u001b[0mclear_output\u001b[0m\u001b[0;34m(\u001b[0m\u001b[0;34m)\u001b[0m\u001b[0;34m\u001b[0m\u001b[0;34m\u001b[0m\u001b[0m\n\u001b[0m",
            "\u001b[0;31mNameError\u001b[0m: name 'clear_output' is not defined"
          ]
        }
      ]
    },
    {
      "cell_type": "code",
      "source": [
        "import pandas as pd\n",
        "import numpy as np\n",
        "import matplotlib.pyplot as plt\n",
        "import cv2\n",
        "import random\n",
        "import os\n",
        "from PIL import Image\n",
        "from matplotlib.image import imread\n",
        "from os import listdir\n",
        "from sklearn.preprocessing import label_binarize, LabelBinarizer\n",
        "from keras.preprocessing import image\n",
        "from keras.preprocessing.image import img_to_array, array_to_img\n",
        "from keras.optimizers import Adam\n",
        "from keras.models import Sequential\n",
        "from keras.layers import Conv2D, MaxPool2D, Dense, Flatten, Dropout, Activation\n",
        "from sklearn.model_selection import train_test_split\n",
        "from keras.models import model_from_json\n",
        "from keras.utils import to_categorical"
      ],
      "metadata": {
        "id": "tlfI7C0WfprG"
      },
      "execution_count": 14,
      "outputs": []
    },
    {
      "cell_type": "code",
      "source": [
        "def convert_img_to_array(img_dir):\n",
        "  try:\n",
        "    image = cv2.imread(img_dir)\n",
        "    if image is not None:\n",
        "      image = cv2.resize(image, (256, 256))\n",
        "      return image\n",
        "    else:\n",
        "      return np.array([])\n",
        "  except Exception as e:\n",
        "    print(e)\n",
        "    return None"
      ],
      "metadata": {
        "id": "CQJaeC2ZmV1n"
      },
      "execution_count": 15,
      "outputs": []
    },
    {
      "cell_type": "code",
      "source": [
        "dir = \"drive/MyDrive/CNN_Plant_Data\"\n",
        "root_dir = listdir(dir)\n",
        "image_list, label_list = [],[]\n",
        "all_labels = ['Corn-Common_rust','Potato-Early_blight','Tomato-Bacterial_spot']\n",
        "binary_labels = [0,1,2]\n",
        "temp = -1\n",
        "\n",
        "\n",
        "\n",
        "for dir1 in root_dir:\n",
        "  plant_image_list = listdir(f\"{dir}/{dir1}\")\n",
        "  temp = temp+1\n",
        "  for image in plant_image_list:\n",
        "    image_path = f\"{dir}/{dir1}/{image}\"\n",
        "    image_list.append(convert_img_to_array(image_path))\n",
        "    label_list.append(binary_labels[temp])"
      ],
      "metadata": {
        "id": "hLDWicBlnDL1"
      },
      "execution_count": 17,
      "outputs": []
    },
    {
      "cell_type": "code",
      "source": [
        "label_counts = pd.DataFrame(label_list).value_counts()\n",
        "label_counts"
      ],
      "metadata": {
        "colab": {
          "base_uri": "https://localhost:8080/"
        },
        "id": "crJZeKEqofF6",
        "outputId": "3641772d-a76a-4697-dac5-5261d3c45c3d"
      },
      "execution_count": 19,
      "outputs": [
        {
          "output_type": "execute_result",
          "data": {
            "text/plain": [
              "0    300\n",
              "1    300\n",
              "2    300\n",
              "Name: count, dtype: int64"
            ]
          },
          "metadata": {},
          "execution_count": 19
        }
      ]
    },
    {
      "cell_type": "code",
      "source": [
        "x_train, x_test, y_train, y_test = train_test_split(image_list, label_list, test_size=0.2, random_state=10)"
      ],
      "metadata": {
        "id": "LRZ_xszLqJGF"
      },
      "execution_count": 20,
      "outputs": []
    },
    {
      "cell_type": "code",
      "source": [
        "x_train = np.array(x_train, dtype=np.float16) / 225.0\n",
        "x_test = np.array(x_test, dtype=np.float16) / 225.0\n",
        "x_train = x_train.reshape( -1, 256,256,3)\n",
        "x_test = x_test.reshape( -1, 256,256,3)"
      ],
      "metadata": {
        "id": "kPwdwwf7qZ2o"
      },
      "execution_count": 21,
      "outputs": []
    },
    {
      "cell_type": "code",
      "source": [
        "y_train = to_categorical(y_train)\n",
        "y_test = to_categorical(y_test)\n"
      ],
      "metadata": {
        "id": "0gjOUQaFrWOq"
      },
      "execution_count": 22,
      "outputs": []
    },
    {
      "cell_type": "code",
      "source": [
        "model = Sequential()\n",
        "model.add(Conv2D(32,(3,3),padding=\"same\",input_shape=(256,256,3),activation=\"relu\"))\n",
        "model.add(MaxPool2D(pool_size=(2,2)))\n",
        "model.add(Conv2D(64,(3,3),padding=\"same\",activation=\"relu\"))\n",
        "model.add(MaxPool2D(pool_size=(2,2)))\n",
        "model.add(Flatten())\n",
        "model.add(Dense(64,activation=\"relu\"))\n",
        "model.add(Dense(3,activation=\"softmax\"))\n",
        "model.summary()"
      ],
      "metadata": {
        "colab": {
          "base_uri": "https://localhost:8080/"
        },
        "id": "m08OVwadr0p3",
        "outputId": "4c31829f-7ac2-47b7-a20c-883e64cd9455"
      },
      "execution_count": 24,
      "outputs": [
        {
          "output_type": "stream",
          "name": "stdout",
          "text": [
            "Model: \"sequential\"\n",
            "_________________________________________________________________\n",
            " Layer (type)                Output Shape              Param #   \n",
            "=================================================================\n",
            " conv2d (Conv2D)             (None, 256, 256, 32)      896       \n",
            "                                                                 \n",
            " max_pooling2d (MaxPooling2  (None, 128, 128, 32)      0         \n",
            " D)                                                              \n",
            "                                                                 \n",
            " conv2d_1 (Conv2D)           (None, 128, 128, 64)      18496     \n",
            "                                                                 \n",
            " max_pooling2d_1 (MaxPoolin  (None, 64, 64, 64)        0         \n",
            " g2D)                                                            \n",
            "                                                                 \n",
            " flatten (Flatten)           (None, 262144)            0         \n",
            "                                                                 \n",
            " dense (Dense)               (None, 64)                16777280  \n",
            "                                                                 \n",
            " dense_1 (Dense)             (None, 3)                 195       \n",
            "                                                                 \n",
            "=================================================================\n",
            "Total params: 16796867 (64.07 MB)\n",
            "Trainable params: 16796867 (64.07 MB)\n",
            "Non-trainable params: 0 (0.00 Byte)\n",
            "_________________________________________________________________\n"
          ]
        }
      ]
    },
    {
      "cell_type": "code",
      "source": [
        "model.compile(loss = 'categorical_crossentropy', optimizer = Adam(0.0001),metrics=['accuracy'])"
      ],
      "metadata": {
        "id": "UlZIy5_dr4Gx"
      },
      "execution_count": 25,
      "outputs": []
    },
    {
      "cell_type": "code",
      "source": [
        "x_train, x_val, y_train, y_val = train_test_split(x_train, y_train, test_size = 0.2)"
      ],
      "metadata": {
        "id": "8HveeBbgtVwg"
      },
      "execution_count": 26,
      "outputs": []
    },
    {
      "cell_type": "code",
      "source": [
        "epochs = 100\n",
        "batch_size = 128\n",
        "history = model.fit(x_train, y_train, batch_size = batch_size, epochs = epochs,\n",
        "                    validation_data = (x_val, y_val))"
      ],
      "metadata": {
        "colab": {
          "base_uri": "https://localhost:8080/"
        },
        "id": "fnMZ2O0PtXnP",
        "outputId": "f966c2a5-a541-40c6-b7fc-d3a94dee9b1e"
      },
      "execution_count": 27,
      "outputs": [
        {
          "output_type": "stream",
          "name": "stdout",
          "text": [
            "Epoch 1/100\n",
            "5/5 [==============================] - 16s 1s/step - loss: 1.1901 - accuracy: 0.4757 - val_loss: 0.4387 - val_accuracy: 0.7292\n",
            "Epoch 2/100\n",
            "5/5 [==============================] - 1s 205ms/step - loss: 0.4860 - accuracy: 0.7431 - val_loss: 0.2063 - val_accuracy: 0.9306\n",
            "Epoch 3/100\n",
            "5/5 [==============================] - 1s 200ms/step - loss: 0.2707 - accuracy: 0.9167 - val_loss: 0.2903 - val_accuracy: 0.8681\n",
            "Epoch 4/100\n",
            "5/5 [==============================] - 1s 208ms/step - loss: 0.2387 - accuracy: 0.9306 - val_loss: 0.1380 - val_accuracy: 0.9583\n",
            "Epoch 5/100\n",
            "5/5 [==============================] - 1s 207ms/step - loss: 0.1516 - accuracy: 0.9618 - val_loss: 0.0926 - val_accuracy: 0.9861\n",
            "Epoch 6/100\n",
            "5/5 [==============================] - 1s 205ms/step - loss: 0.1075 - accuracy: 0.9688 - val_loss: 0.0745 - val_accuracy: 0.9931\n",
            "Epoch 7/100\n",
            "5/5 [==============================] - 1s 203ms/step - loss: 0.0911 - accuracy: 0.9809 - val_loss: 0.0953 - val_accuracy: 0.9653\n",
            "Epoch 8/100\n",
            "5/5 [==============================] - 1s 203ms/step - loss: 0.0826 - accuracy: 0.9792 - val_loss: 0.0445 - val_accuracy: 1.0000\n",
            "Epoch 9/100\n",
            "5/5 [==============================] - 1s 206ms/step - loss: 0.0546 - accuracy: 0.9878 - val_loss: 0.0343 - val_accuracy: 1.0000\n",
            "Epoch 10/100\n",
            "5/5 [==============================] - 1s 263ms/step - loss: 0.0461 - accuracy: 0.9948 - val_loss: 0.0427 - val_accuracy: 0.9931\n",
            "Epoch 11/100\n",
            "5/5 [==============================] - 1s 276ms/step - loss: 0.0425 - accuracy: 0.9913 - val_loss: 0.0248 - val_accuracy: 1.0000\n",
            "Epoch 12/100\n",
            "5/5 [==============================] - 1s 239ms/step - loss: 0.0360 - accuracy: 0.9948 - val_loss: 0.0211 - val_accuracy: 1.0000\n",
            "Epoch 13/100\n",
            "5/5 [==============================] - 1s 203ms/step - loss: 0.0309 - accuracy: 0.9931 - val_loss: 0.0342 - val_accuracy: 0.9931\n",
            "Epoch 14/100\n",
            "5/5 [==============================] - 1s 203ms/step - loss: 0.0281 - accuracy: 0.9948 - val_loss: 0.0185 - val_accuracy: 1.0000\n",
            "Epoch 15/100\n",
            "5/5 [==============================] - 1s 203ms/step - loss: 0.0220 - accuracy: 0.9965 - val_loss: 0.0332 - val_accuracy: 0.9931\n",
            "Epoch 16/100\n",
            "5/5 [==============================] - 1s 207ms/step - loss: 0.0192 - accuracy: 1.0000 - val_loss: 0.0148 - val_accuracy: 1.0000\n",
            "Epoch 17/100\n",
            "5/5 [==============================] - 1s 206ms/step - loss: 0.0141 - accuracy: 0.9983 - val_loss: 0.0159 - val_accuracy: 1.0000\n",
            "Epoch 18/100\n",
            "5/5 [==============================] - 1s 203ms/step - loss: 0.0110 - accuracy: 1.0000 - val_loss: 0.0119 - val_accuracy: 1.0000\n",
            "Epoch 19/100\n",
            "5/5 [==============================] - 1s 204ms/step - loss: 0.0093 - accuracy: 1.0000 - val_loss: 0.0108 - val_accuracy: 1.0000\n",
            "Epoch 20/100\n",
            "5/5 [==============================] - 1s 205ms/step - loss: 0.0076 - accuracy: 1.0000 - val_loss: 0.0137 - val_accuracy: 1.0000\n",
            "Epoch 21/100\n",
            "5/5 [==============================] - 1s 210ms/step - loss: 0.0065 - accuracy: 1.0000 - val_loss: 0.0089 - val_accuracy: 1.0000\n",
            "Epoch 22/100\n",
            "5/5 [==============================] - 1s 205ms/step - loss: 0.0053 - accuracy: 1.0000 - val_loss: 0.0098 - val_accuracy: 1.0000\n",
            "Epoch 23/100\n",
            "5/5 [==============================] - 1s 252ms/step - loss: 0.0048 - accuracy: 1.0000 - val_loss: 0.0082 - val_accuracy: 1.0000\n",
            "Epoch 24/100\n",
            "5/5 [==============================] - 1s 264ms/step - loss: 0.0042 - accuracy: 1.0000 - val_loss: 0.0077 - val_accuracy: 1.0000\n",
            "Epoch 25/100\n",
            "5/5 [==============================] - 1s 242ms/step - loss: 0.0035 - accuracy: 1.0000 - val_loss: 0.0096 - val_accuracy: 1.0000\n",
            "Epoch 26/100\n",
            "5/5 [==============================] - 1s 215ms/step - loss: 0.0031 - accuracy: 1.0000 - val_loss: 0.0065 - val_accuracy: 1.0000\n",
            "Epoch 27/100\n",
            "5/5 [==============================] - 1s 205ms/step - loss: 0.0026 - accuracy: 1.0000 - val_loss: 0.0077 - val_accuracy: 1.0000\n",
            "Epoch 28/100\n",
            "5/5 [==============================] - 1s 207ms/step - loss: 0.0024 - accuracy: 1.0000 - val_loss: 0.0068 - val_accuracy: 1.0000\n",
            "Epoch 29/100\n",
            "5/5 [==============================] - 1s 208ms/step - loss: 0.0020 - accuracy: 1.0000 - val_loss: 0.0058 - val_accuracy: 1.0000\n",
            "Epoch 30/100\n",
            "5/5 [==============================] - 1s 206ms/step - loss: 0.0019 - accuracy: 1.0000 - val_loss: 0.0059 - val_accuracy: 1.0000\n",
            "Epoch 31/100\n",
            "5/5 [==============================] - 1s 205ms/step - loss: 0.0017 - accuracy: 1.0000 - val_loss: 0.0059 - val_accuracy: 1.0000\n",
            "Epoch 32/100\n",
            "5/5 [==============================] - 1s 205ms/step - loss: 0.0015 - accuracy: 1.0000 - val_loss: 0.0050 - val_accuracy: 1.0000\n",
            "Epoch 33/100\n",
            "5/5 [==============================] - 1s 210ms/step - loss: 0.0014 - accuracy: 1.0000 - val_loss: 0.0049 - val_accuracy: 1.0000\n",
            "Epoch 34/100\n",
            "5/5 [==============================] - 1s 204ms/step - loss: 0.0013 - accuracy: 1.0000 - val_loss: 0.0056 - val_accuracy: 1.0000\n",
            "Epoch 35/100\n",
            "5/5 [==============================] - 1s 207ms/step - loss: 0.0012 - accuracy: 1.0000 - val_loss: 0.0042 - val_accuracy: 1.0000\n",
            "Epoch 36/100\n",
            "5/5 [==============================] - 1s 274ms/step - loss: 0.0011 - accuracy: 1.0000 - val_loss: 0.0047 - val_accuracy: 1.0000\n",
            "Epoch 37/100\n",
            "5/5 [==============================] - 1s 252ms/step - loss: 9.5752e-04 - accuracy: 1.0000 - val_loss: 0.0039 - val_accuracy: 1.0000\n",
            "Epoch 38/100\n",
            "5/5 [==============================] - 1s 280ms/step - loss: 9.1260e-04 - accuracy: 1.0000 - val_loss: 0.0038 - val_accuracy: 1.0000\n",
            "Epoch 39/100\n",
            "5/5 [==============================] - 1s 207ms/step - loss: 8.9414e-04 - accuracy: 1.0000 - val_loss: 0.0046 - val_accuracy: 1.0000\n",
            "Epoch 40/100\n",
            "5/5 [==============================] - 1s 210ms/step - loss: 8.0467e-04 - accuracy: 1.0000 - val_loss: 0.0033 - val_accuracy: 1.0000\n",
            "Epoch 41/100\n",
            "5/5 [==============================] - 1s 207ms/step - loss: 6.8610e-04 - accuracy: 1.0000 - val_loss: 0.0039 - val_accuracy: 1.0000\n",
            "Epoch 42/100\n",
            "5/5 [==============================] - 1s 211ms/step - loss: 6.7438e-04 - accuracy: 1.0000 - val_loss: 0.0035 - val_accuracy: 1.0000\n",
            "Epoch 43/100\n",
            "5/5 [==============================] - 1s 210ms/step - loss: 5.7790e-04 - accuracy: 1.0000 - val_loss: 0.0029 - val_accuracy: 1.0000\n",
            "Epoch 44/100\n",
            "5/5 [==============================] - 1s 208ms/step - loss: 5.6068e-04 - accuracy: 1.0000 - val_loss: 0.0031 - val_accuracy: 1.0000\n",
            "Epoch 45/100\n",
            "5/5 [==============================] - 1s 208ms/step - loss: 5.0761e-04 - accuracy: 1.0000 - val_loss: 0.0032 - val_accuracy: 1.0000\n",
            "Epoch 46/100\n",
            "5/5 [==============================] - 1s 209ms/step - loss: 4.7149e-04 - accuracy: 1.0000 - val_loss: 0.0029 - val_accuracy: 1.0000\n",
            "Epoch 47/100\n",
            "5/5 [==============================] - 1s 208ms/step - loss: 4.6411e-04 - accuracy: 1.0000 - val_loss: 0.0027 - val_accuracy: 1.0000\n",
            "Epoch 48/100\n",
            "5/5 [==============================] - 1s 254ms/step - loss: 4.1417e-04 - accuracy: 1.0000 - val_loss: 0.0030 - val_accuracy: 1.0000\n",
            "Epoch 49/100\n",
            "5/5 [==============================] - 1s 235ms/step - loss: 3.9354e-04 - accuracy: 1.0000 - val_loss: 0.0026 - val_accuracy: 1.0000\n",
            "Epoch 50/100\n",
            "5/5 [==============================] - 1s 285ms/step - loss: 3.7430e-04 - accuracy: 1.0000 - val_loss: 0.0024 - val_accuracy: 1.0000\n",
            "Epoch 51/100\n",
            "5/5 [==============================] - 1s 230ms/step - loss: 3.5286e-04 - accuracy: 1.0000 - val_loss: 0.0024 - val_accuracy: 1.0000\n",
            "Epoch 52/100\n",
            "5/5 [==============================] - 1s 212ms/step - loss: 3.3037e-04 - accuracy: 1.0000 - val_loss: 0.0027 - val_accuracy: 1.0000\n",
            "Epoch 53/100\n",
            "5/5 [==============================] - 1s 209ms/step - loss: 3.1114e-04 - accuracy: 1.0000 - val_loss: 0.0023 - val_accuracy: 1.0000\n",
            "Epoch 54/100\n",
            "5/5 [==============================] - 1s 209ms/step - loss: 3.0348e-04 - accuracy: 1.0000 - val_loss: 0.0021 - val_accuracy: 1.0000\n",
            "Epoch 55/100\n",
            "5/5 [==============================] - 1s 216ms/step - loss: 2.8131e-04 - accuracy: 1.0000 - val_loss: 0.0026 - val_accuracy: 1.0000\n",
            "Epoch 56/100\n",
            "5/5 [==============================] - 1s 216ms/step - loss: 2.7023e-04 - accuracy: 1.0000 - val_loss: 0.0022 - val_accuracy: 1.0000\n",
            "Epoch 57/100\n",
            "5/5 [==============================] - 1s 209ms/step - loss: 2.5854e-04 - accuracy: 1.0000 - val_loss: 0.0019 - val_accuracy: 1.0000\n",
            "Epoch 58/100\n",
            "5/5 [==============================] - 1s 211ms/step - loss: 2.4755e-04 - accuracy: 1.0000 - val_loss: 0.0022 - val_accuracy: 1.0000\n",
            "Epoch 59/100\n",
            "5/5 [==============================] - 1s 210ms/step - loss: 2.2594e-04 - accuracy: 1.0000 - val_loss: 0.0021 - val_accuracy: 1.0000\n",
            "Epoch 60/100\n",
            "5/5 [==============================] - 1s 211ms/step - loss: 2.2271e-04 - accuracy: 1.0000 - val_loss: 0.0019 - val_accuracy: 1.0000\n",
            "Epoch 61/100\n",
            "5/5 [==============================] - 1s 280ms/step - loss: 2.0670e-04 - accuracy: 1.0000 - val_loss: 0.0022 - val_accuracy: 1.0000\n",
            "Epoch 62/100\n",
            "5/5 [==============================] - 1s 231ms/step - loss: 1.9528e-04 - accuracy: 1.0000 - val_loss: 0.0019 - val_accuracy: 1.0000\n",
            "Epoch 63/100\n",
            "5/5 [==============================] - 1s 255ms/step - loss: 1.9236e-04 - accuracy: 1.0000 - val_loss: 0.0017 - val_accuracy: 1.0000\n",
            "Epoch 64/100\n",
            "5/5 [==============================] - 1s 223ms/step - loss: 1.7745e-04 - accuracy: 1.0000 - val_loss: 0.0020 - val_accuracy: 1.0000\n",
            "Epoch 65/100\n",
            "5/5 [==============================] - 1s 212ms/step - loss: 1.7398e-04 - accuracy: 1.0000 - val_loss: 0.0020 - val_accuracy: 1.0000\n",
            "Epoch 66/100\n",
            "5/5 [==============================] - 1s 216ms/step - loss: 1.6374e-04 - accuracy: 1.0000 - val_loss: 0.0017 - val_accuracy: 1.0000\n",
            "Epoch 67/100\n",
            "5/5 [==============================] - 1s 211ms/step - loss: 1.5344e-04 - accuracy: 1.0000 - val_loss: 0.0019 - val_accuracy: 1.0000\n",
            "Epoch 68/100\n",
            "5/5 [==============================] - 1s 219ms/step - loss: 1.4994e-04 - accuracy: 1.0000 - val_loss: 0.0019 - val_accuracy: 1.0000\n",
            "Epoch 69/100\n",
            "5/5 [==============================] - 1s 217ms/step - loss: 1.4177e-04 - accuracy: 1.0000 - val_loss: 0.0017 - val_accuracy: 1.0000\n",
            "Epoch 70/100\n",
            "5/5 [==============================] - 1s 246ms/step - loss: 1.3884e-04 - accuracy: 1.0000 - val_loss: 0.0017 - val_accuracy: 1.0000\n",
            "Epoch 71/100\n",
            "5/5 [==============================] - 1s 219ms/step - loss: 1.3063e-04 - accuracy: 1.0000 - val_loss: 0.0020 - val_accuracy: 1.0000\n",
            "Epoch 72/100\n",
            "5/5 [==============================] - 1s 219ms/step - loss: 1.3074e-04 - accuracy: 1.0000 - val_loss: 0.0018 - val_accuracy: 1.0000\n",
            "Epoch 73/100\n",
            "5/5 [==============================] - 1s 266ms/step - loss: 1.2356e-04 - accuracy: 1.0000 - val_loss: 0.0016 - val_accuracy: 1.0000\n",
            "Epoch 74/100\n",
            "5/5 [==============================] - 1s 288ms/step - loss: 1.2007e-04 - accuracy: 1.0000 - val_loss: 0.0017 - val_accuracy: 1.0000\n",
            "Epoch 75/100\n",
            "5/5 [==============================] - 1s 285ms/step - loss: 1.1410e-04 - accuracy: 1.0000 - val_loss: 0.0017 - val_accuracy: 1.0000\n",
            "Epoch 76/100\n",
            "5/5 [==============================] - 1s 222ms/step - loss: 1.0993e-04 - accuracy: 1.0000 - val_loss: 0.0016 - val_accuracy: 1.0000\n",
            "Epoch 77/100\n",
            "5/5 [==============================] - 1s 218ms/step - loss: 1.0699e-04 - accuracy: 1.0000 - val_loss: 0.0017 - val_accuracy: 1.0000\n",
            "Epoch 78/100\n",
            "5/5 [==============================] - 1s 219ms/step - loss: 1.0306e-04 - accuracy: 1.0000 - val_loss: 0.0018 - val_accuracy: 1.0000\n",
            "Epoch 79/100\n",
            "5/5 [==============================] - 1s 219ms/step - loss: 1.0037e-04 - accuracy: 1.0000 - val_loss: 0.0018 - val_accuracy: 1.0000\n",
            "Epoch 80/100\n",
            "5/5 [==============================] - 1s 221ms/step - loss: 9.7520e-05 - accuracy: 1.0000 - val_loss: 0.0017 - val_accuracy: 1.0000\n",
            "Epoch 81/100\n",
            "5/5 [==============================] - 1s 217ms/step - loss: 9.3652e-05 - accuracy: 1.0000 - val_loss: 0.0016 - val_accuracy: 1.0000\n",
            "Epoch 82/100\n",
            "5/5 [==============================] - 1s 218ms/step - loss: 9.2820e-05 - accuracy: 1.0000 - val_loss: 0.0016 - val_accuracy: 1.0000\n",
            "Epoch 83/100\n",
            "5/5 [==============================] - 1s 224ms/step - loss: 9.1023e-05 - accuracy: 1.0000 - val_loss: 0.0018 - val_accuracy: 1.0000\n",
            "Epoch 84/100\n",
            "5/5 [==============================] - 1s 218ms/step - loss: 8.6438e-05 - accuracy: 1.0000 - val_loss: 0.0016 - val_accuracy: 1.0000\n",
            "Epoch 85/100\n",
            "5/5 [==============================] - 1s 233ms/step - loss: 8.3724e-05 - accuracy: 1.0000 - val_loss: 0.0016 - val_accuracy: 1.0000\n",
            "Epoch 86/100\n",
            "5/5 [==============================] - 1s 239ms/step - loss: 8.0814e-05 - accuracy: 1.0000 - val_loss: 0.0017 - val_accuracy: 1.0000\n",
            "Epoch 87/100\n",
            "5/5 [==============================] - 1s 265ms/step - loss: 7.8836e-05 - accuracy: 1.0000 - val_loss: 0.0016 - val_accuracy: 1.0000\n",
            "Epoch 88/100\n",
            "5/5 [==============================] - 1s 236ms/step - loss: 7.6375e-05 - accuracy: 1.0000 - val_loss: 0.0017 - val_accuracy: 1.0000\n",
            "Epoch 89/100\n",
            "5/5 [==============================] - 1s 216ms/step - loss: 7.4759e-05 - accuracy: 1.0000 - val_loss: 0.0016 - val_accuracy: 1.0000\n",
            "Epoch 90/100\n",
            "5/5 [==============================] - 1s 216ms/step - loss: 7.3741e-05 - accuracy: 1.0000 - val_loss: 0.0015 - val_accuracy: 1.0000\n",
            "Epoch 91/100\n",
            "5/5 [==============================] - 1s 221ms/step - loss: 7.0336e-05 - accuracy: 1.0000 - val_loss: 0.0017 - val_accuracy: 1.0000\n",
            "Epoch 92/100\n",
            "5/5 [==============================] - 1s 219ms/step - loss: 6.9825e-05 - accuracy: 1.0000 - val_loss: 0.0017 - val_accuracy: 1.0000\n",
            "Epoch 93/100\n",
            "5/5 [==============================] - 1s 219ms/step - loss: 6.8691e-05 - accuracy: 1.0000 - val_loss: 0.0016 - val_accuracy: 1.0000\n",
            "Epoch 94/100\n",
            "5/5 [==============================] - 1s 217ms/step - loss: 6.5497e-05 - accuracy: 1.0000 - val_loss: 0.0016 - val_accuracy: 1.0000\n",
            "Epoch 95/100\n",
            "5/5 [==============================] - 1s 218ms/step - loss: 6.3816e-05 - accuracy: 1.0000 - val_loss: 0.0015 - val_accuracy: 1.0000\n",
            "Epoch 96/100\n",
            "5/5 [==============================] - 1s 220ms/step - loss: 6.2311e-05 - accuracy: 1.0000 - val_loss: 0.0015 - val_accuracy: 1.0000\n",
            "Epoch 97/100\n",
            "5/5 [==============================] - 1s 214ms/step - loss: 6.0821e-05 - accuracy: 1.0000 - val_loss: 0.0015 - val_accuracy: 1.0000\n",
            "Epoch 98/100\n",
            "5/5 [==============================] - 1s 266ms/step - loss: 5.9267e-05 - accuracy: 1.0000 - val_loss: 0.0016 - val_accuracy: 1.0000\n",
            "Epoch 99/100\n",
            "5/5 [==============================] - 1s 255ms/step - loss: 5.8663e-05 - accuracy: 1.0000 - val_loss: 0.0017 - val_accuracy: 1.0000\n",
            "Epoch 100/100\n",
            "5/5 [==============================] - 1s 235ms/step - loss: 5.7160e-05 - accuracy: 1.0000 - val_loss: 0.0016 - val_accuracy: 1.0000\n"
          ]
        }
      ]
    },
    {
      "cell_type": "code",
      "source": [],
      "metadata": {
        "id": "ifLkDpbMtZ6-"
      },
      "execution_count": null,
      "outputs": []
    }
  ]
}